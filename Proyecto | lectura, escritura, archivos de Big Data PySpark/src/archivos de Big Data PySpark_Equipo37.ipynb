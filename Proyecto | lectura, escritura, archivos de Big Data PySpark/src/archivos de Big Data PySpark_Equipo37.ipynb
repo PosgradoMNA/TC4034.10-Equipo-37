{
 "cells": [
  {
   "cell_type": "markdown",
   "metadata": {},
   "source": [
    "# Proyecto | lectura, escritura, archivos de Big Data PySpark - Implementación"
   ]
  },
  {
   "cell_type": "markdown",
   "metadata": {},
   "source": [
    "## Tema de interés y propuesta\n",
    "--- \n",
    "\n",
    "El análisis de reseñas de productos publicadas en Amazon utilizando herramientas de Big Data, como PySpark, representa una oportunidad valiosa para estudiar el comportamiento del consumidor a gran escala. Amazon, como líder mundial en comercio electrónico y servicios tecnológicos a través de su plataforma AWS (Amazon Web Services), ofrece una base de datos masiva que permite explorar patrones de opinión y tendencias de mercado.\n",
    "\n",
    "Se **propone desarrollar una solución que procese y analice grandes volúmenes de reseñas** con el objetivo general de identificar el sentimiento asociado a los productos, clasificándolo en positivo o negativo.\n",
    "\n",
    "El interés en este tema surge de la necesidad profesional de fortalecer competencias en análisis de datos masivos y procesamiento de lenguaje natural (NLP), así como de la demanda creciente en el mercado por herramientas que faciliten la interpretación de la percepción del consumidor en entornos de venta en línea.\n",
    "\n",
    "### Aplicaciones potenciales:\n",
    "\n",
    "* Mejora de Productos: Analizar las reseñas puede ayudar a identificar problemas recurrentes o aspectos destacados de los productos, ayudando a los fabricantes a mejorar los diseños o la experiencia del cliente.\n",
    "* Atención al Cliente y Soporte: Identificar rápidamente las reseñas negativas permite a las empresas abordar las preocupaciones de los clientes de manera eficiente, mejorando la satisfacción del cliente.\n",
    "* Sistemas de Recomendación: El conjunto de datos puede usarse para mejorar los sistemas de recomendación, correlacionando las calificaciones de los productos, los sentimientos y las preferencias de los clientes."
   ]
  },
  {
   "cell_type": "markdown",
   "metadata": {},
   "source": [
    "## Dataset:\n",
    "---\n",
    "\n",
    "### **Selección**\n",
    "\n",
    "**Nombre**: *Amazon Product Reviews*  \n",
    "**Origen**: Este conjunto de datos proviene de [Kaggle](https://www.kaggle.com/datasets/machharavikiran/amazon-reviews). Es una colección de reseñas de productos publicadas por clientes de Amazon. El dataset está disponible públicamente en Kaggle para su análisis y exploración.\n",
    "\n",
    "**Tamaño Global**:  \n",
    "- **Tamaño estimado**: Aproximadamente 3.68 GB.\n",
    "\n",
    "---\n",
    "\n",
    "### **Descripción General**\n",
    "\n",
    "Este conjunto de datos contiene reseñas de productos publicadas en Amazon, con un enfoque principal en productos electrónicos. La información es detallada, incluyendo las calificaciones de los usuarios, comentarios, votos útiles, y otros aspectos que permiten realizar un análisis profundo del comportamiento del consumidor y el sentimiento de las reseñas.\n",
    "\n",
    "---\n",
    "\n",
    "### **Atributos del Conjunto de Datos**\n",
    "\n",
    "1. **marketplace**:  \n",
    "   - Descripción: La región o país en el que se realizó la compra (por ejemplo, \"US\").\n",
    "   - Tipo: Texto.\n",
    "\n",
    "2. **customer_id**:  \n",
    "   - Descripción: Un identificador único para el cliente que dejó la reseña.\n",
    "   - Tipo: Numérico.\n",
    "\n",
    "3. **review_id**:  \n",
    "   - Descripción: Un identificador único para cada reseña.\n",
    "   - Tipo: Texto.\n",
    "\n",
    "4. **product_id**:  \n",
    "   - Descripción: Un identificador único para el producto reseñado.\n",
    "   - Tipo: Texto.\n",
    "\n",
    "5. **product_parent**:  \n",
    "   - Descripción: Un identificador de grupo o \"padre\" para productos similares o relacionados.\n",
    "   - Tipo: Numérico.\n",
    "\n",
    "6. **product_title**:  \n",
    "   - Descripción: El nombre o título del producto que fue reseñado.\n",
    "   - Tipo: Texto.\n",
    "\n",
    "7. **product_category**:  \n",
    "   - Descripción: La categoría a la que pertenece el producto (por ejemplo, \"PC\", \"Electronics\").\n",
    "   - Tipo: Texto.\n",
    "\n",
    "8. **star_rating**:  \n",
    "   - Descripción: La calificación otorgada por el cliente, generalmente en una escala de 1 a 5 estrellas.\n",
    "   - Tipo: Numérico.\n",
    "\n",
    "9. **helpful_votes**:  \n",
    "   - Descripción: El número de votos que otros usuarios han marcado como útiles para esta reseña.\n",
    "   - Tipo: Numérico.\n",
    "\n",
    "10. **total_votes**:  \n",
    "    - Descripción: El número total de votos que ha recibido la reseña (útiles o no).\n",
    "    - Tipo: Numérico.\n",
    "\n",
    "11. **vine**:  \n",
    "    - Descripción: Indica si la reseña fue parte del programa Vine de Amazon (Y para sí, N para no).\n",
    "    - Tipo: Texto.\n",
    "\n",
    "12. **verified_purchase**:  \n",
    "    - Descripción: Indica si el producto fue verificado como comprado por el cliente (Y para sí, N para no).\n",
    "    - Tipo: Texto.\n",
    "\n",
    "13. **review_headline**:  \n",
    "    - Descripción: El encabezado o título de la reseña proporcionado por el cliente.\n",
    "    - Tipo: Texto.\n",
    "\n",
    "14. **review_body**:  \n",
    "    - Descripción: El cuerpo de la reseña, donde el cliente describe su experiencia con el producto.\n",
    "    - Tipo: Texto.\n",
    "\n",
    "15. **review_date**:  \n",
    "    - Descripción: La fecha en que se publicó la reseña.\n",
    "    - Tipo: Fecha.\n",
    "\n",
    "16. **sentiment**:  \n",
    "    - Descripción: Un valor binario que indica el sentimiento de la reseña (1 para positivo, 0 para negativo).\n",
    "    - Tipo: Numérico.\n"
   ]
  },
  {
   "cell_type": "markdown",
   "metadata": {},
   "source": [
    "## Análisis con PySpark\n",
    "--- \n"
   ]
  },
  {
   "cell_type": "markdown",
   "metadata": {},
   "source": [
    "🚨 From this point forward, we will use English for the remainder of the notebook to maintain consistency with code syntax and findings."
   ]
  },
  {
   "cell_type": "markdown",
   "metadata": {},
   "source": [
    "> Note that to run this notebook, you'll need to install some dependencies. It's HIGHLY suggested to run this command to actually install it in a virtual environment by following this command:\n",
    "\n",
    "`python3 -m venv venv && source venv/bin/activate && pip install findspark pyspark matplotlib seaborn setuptools`"
   ]
  },
  {
   "cell_type": "code",
   "execution_count": 1,
   "metadata": {},
   "outputs": [],
   "source": [
    "import findspark\n",
    "from pyspark.sql import SparkSession\n",
    "from pyspark.sql.functions import col, isnan, when, count\n",
    "from pyspark.sql.types import StringType, DoubleType, FloatType\n",
    "\n",
    "from os import path\n",
    "\n",
    "import matplotlib.pyplot as plt\n",
    "import seaborn as sns"
   ]
  },
  {
   "cell_type": "code",
   "execution_count": 2,
   "metadata": {},
   "outputs": [
    {
     "data": {
      "text/plain": [
       "'/Users/cesarivp/Documents/GitHub/TC4034.10-Equipo-37/venv/lib/python3.13/site-packages/pyspark'"
      ]
     },
     "execution_count": 2,
     "metadata": {},
     "output_type": "execute_result"
    }
   ],
   "source": [
    "findspark.init()\n",
    "findspark.find()"
   ]
  },
  {
   "cell_type": "code",
   "execution_count": 3,
   "metadata": {},
   "outputs": [
    {
     "name": "stderr",
     "output_type": "stream",
     "text": [
      "Setting default log level to \"WARN\".\n",
      "To adjust logging level use sc.setLogLevel(newLevel). For SparkR, use setLogLevel(newLevel).\n",
      "25/04/27 13:58:06 WARN NativeCodeLoader: Unable to load native-hadoop library for your platform... using builtin-java classes where applicable\n",
      "25/04/27 13:58:06 WARN Utils: Service 'SparkUI' could not bind on port 4040. Attempting port 4041.\n"
     ]
    },
    {
     "data": {
      "text/html": [
       "\n",
       "            <div>\n",
       "                <p><b>SparkSession - in-memory</b></p>\n",
       "                \n",
       "        <div>\n",
       "            <p><b>SparkContext</b></p>\n",
       "\n",
       "            <p><a href=\"http://10.0.0.141:4041\">Spark UI</a></p>\n",
       "\n",
       "            <dl>\n",
       "              <dt>Version</dt>\n",
       "                <dd><code>v3.5.5</code></dd>\n",
       "              <dt>Master</dt>\n",
       "                <dd><code>local[*]</code></dd>\n",
       "              <dt>AppName</dt>\n",
       "                <dd><code>pyspark-shell</code></dd>\n",
       "            </dl>\n",
       "        </div>\n",
       "        \n",
       "            </div>\n",
       "        "
      ],
      "text/plain": [
       "<pyspark.sql.session.SparkSession at 0x117ef4980>"
      ]
     },
     "execution_count": 3,
     "metadata": {},
     "output_type": "execute_result"
    }
   ],
   "source": [
    "spark = SparkSession.builder.master(\"local[*]\").getOrCreate()\n",
    "spark.conf.set(\"spark.sql.repl.eagerEval.enabled\", True)\n",
    "\n",
    "spark"
   ]
  },
  {
   "cell_type": "code",
   "execution_count": 4,
   "metadata": {},
   "outputs": [],
   "source": [
    "PATH = \"../files\"\n",
    "FILE = \"amazon_electronics.csv\""
   ]
  },
  {
   "cell_type": "code",
   "execution_count": 5,
   "metadata": {},
   "outputs": [],
   "source": [
    "class FileManager():\n",
    "    @staticmethod\n",
    "    def open_csv_file(input_path : str, file_name : str):\n",
    "        \"\"\"\n",
    "        This method opens a csv file with pyspark\n",
    "        \"\"\"\n",
    "        csv_df = spark.read.csv(\n",
    "            path.join(input_path, file_name),\n",
    "            header=True,\n",
    "            inferSchema=True,\n",
    "            multiLine=True,\n",
    "            escape=\"\\\"\",\n",
    "            quote=\"\\\"\"\n",
    "        )\n",
    "\n",
    "        csv_df.show(truncate=20)\n",
    "\n",
    "        return csv_df"
   ]
  },
  {
   "cell_type": "code",
   "execution_count": 6,
   "metadata": {},
   "outputs": [],
   "source": [
    "class StatisticalAnalysisHelper():\n",
    "    @staticmethod\n",
    "    def dataset_dimensions(df_input):\n",
    "        print(\"columns in the dataset:\", len(df_input.columns))\n",
    "        print(\"rows in the dataset:\", df_input.count())\n",
    "\n",
    "    @staticmethod\n",
    "    def schema_information(df_input):\n",
    "        \"\"\"\n",
    "        This method shows the current schema of the data.\n",
    "        \"\"\"\n",
    "        df_input.printSchema()\n",
    "\n",
    "    @staticmethod\n",
    "    def descriptive_statistics(df_input):\n",
    "        \"\"\"\n",
    "        This method shows the descriptive statistics of the data.\n",
    "        \"\"\"\n",
    "        df_input.summary().show(truncate=False)\n",
    "\n",
    "    @staticmethod\n",
    "    def missing_values_table(df_input):\n",
    "        \"\"\"\n",
    "        Displays a table with the count of missing values per column.\n",
    "        \"\"\"\n",
    "        missing_exprs = []\n",
    "        \n",
    "        for c in df_input.schema.fields:\n",
    "            field_name = c.name\n",
    "            field_type = c.dataType\n",
    "            \n",
    "            if isinstance(field_type, (DoubleType, FloatType)):\n",
    "                missing_exprs.append(\n",
    "                    count(when(col(field_name).isNull() | isnan(col(field_name)), field_name)).alias(field_name)\n",
    "                )\n",
    "            elif isinstance(field_type, StringType):\n",
    "                missing_exprs.append(\n",
    "                    count(when(col(field_name).isNull() | (col(field_name) == \"\"), field_name)).alias(field_name)\n",
    "                )\n",
    "            else:\n",
    "                missing_exprs.append(\n",
    "                    count(when(col(field_name).isNull(), field_name)).alias(field_name)\n",
    "                )\n",
    "\n",
    "        df_missing_values = df_input.select(missing_exprs)\n",
    "\n",
    "        return df_missing_values"
   ]
  },
  {
   "cell_type": "code",
   "execution_count": 7,
   "metadata": {},
   "outputs": [],
   "source": [
    "class VisualAnalysisHelper:\n",
    "    @staticmethod\n",
    "    def missing_values_plot(df_missing_values):\n",
    "        \"\"\"\n",
    "        This method shows the missing values and plots them.\n",
    "        \"\"\"\n",
    "        df_missing_values_pd = df_missing_values.toPandas()\n",
    "\n",
    "        df_missing_values_pd = df_missing_values_pd.melt(var_name=\"column\", value_name=\"missing_count\")\n",
    "\n",
    "        plt.figure(figsize=(10,6))\n",
    "        sns.barplot(x=\"column\", y=\"missing_count\", data=df_missing_values_pd)\n",
    "        plt.xticks(rotation=45, ha='right')\n",
    "        plt.title(\"Missing Values per Column\")\n",
    "        plt.tight_layout()\n",
    "        plt.show()\n",
    "\n",
    "    @staticmethod\n",
    "    def column_distribution_plot(df_input, column_name, x_label, y_label):\n",
    "        \"\"\"\n",
    "        This method plots the distribution of the 'star_rating' column.\n",
    "        \"\"\"\n",
    "\n",
    "        rating_counts = (\n",
    "            df_input.groupBy(column_name)\n",
    "            .count()\n",
    "            .orderBy(column_name)\n",
    "        )\n",
    "\n",
    "        plot_data = rating_counts.toPandas()\n",
    "\n",
    "        plt.figure(figsize=(8, 5))\n",
    "        sns.barplot(x=column_name, y=\"count\", data=plot_data)\n",
    "        plt.xlabel(x_label)\n",
    "        plt.ylabel(y_label)\n",
    "        plt.title(\"Distribution of Values\")\n",
    "        plt.xticks(rotation=0)\n",
    "        plt.tight_layout()\n",
    "        plt.show()"
   ]
  },
  {
   "cell_type": "code",
   "execution_count": 8,
   "metadata": {},
   "outputs": [
    {
     "name": "stderr",
     "output_type": "stream",
     "text": [
      "25/04/27 13:58:20 WARN GarbageCollectionMetrics: To enable non-built-in garbage collector(s) List(G1 Concurrent GC), users should configure it(them) to spark.eventLog.gcMetrics.youngGenerationGarbageCollectors or spark.eventLog.gcMetrics.oldGenerationGarbageCollectors\n",
      "                                                                                \r"
     ]
    },
    {
     "name": "stdout",
     "output_type": "stream",
     "text": [
      "+-----------+-----------+--------------+----------+--------------+--------------------+----------------+-----------+-------------+-----------+----+-----------------+--------------------+--------------------+-----------+---------+\n",
      "|marketplace|customer_id|     review_id|product_id|product_parent|       product_title|product_category|star_rating|helpful_votes|total_votes|vine|verified_purchase|     review_headline|         review_body|review_date|sentiment|\n",
      "+-----------+-----------+--------------+----------+--------------+--------------------+----------------+-----------+-------------+-----------+----+-----------------+--------------------+--------------------+-----------+---------+\n",
      "|         US|   22873041|R3ARRMDEGED8RD|B00KJWQIIC|     335625766|Plemo 14-Inch Lap...|              PC|          5|            0|          0|   N|                Y|Pleasantly surprised|I was very surpri...| 2015-08-31|        1|\n",
      "|         US|   30088427| RQ28TSA020Y6J|B013ALA9LA|     671157305|TP-Link OnHub AC1...|              PC|          5|           24|         31|   N|                N|OnHub is a pretty...|I am a Google emp...| 2015-08-31|        1|\n",
      "|         US|   20329786| RUXJRZCT6953M|B00PML2GQ8|     982036237|AmazonBasics USB ...|              PC|          1|            2|          2|   N|                N|None of them work...|Bought cables in ...| 2015-08-31|        0|\n",
      "|         US|   14215710| R7EO0UO6BPB71|B001NS0OZ4|     576587596|Transcend P8 15-i...|              PC|          1|            0|          0|   N|                Y|just keep searching.|nope, cheap and slow| 2015-08-31|        0|\n",
      "|         US|   38264512|R39NJY2YJ1JFSV|B00AQMTND2|     964759214|Aleratec SATA Dat...|              PC|          5|            0|          0|   N|                Y|          Five Stars|Excellent! Great ...| 2015-08-31|        1|\n",
      "|         US|   30548466|R31SR7REWNX7CF|B00KX4TORI|     170101802|Kingston Digital ...|              PC|          5|            0|          0|   N|                Y|Good quality, wor...|Good quality,work...| 2015-08-31|        1|\n",
      "|         US|     589298| RVBP8I1R0CTZ8|B00P17WEMY|     206124740|White 9 Inch Unlo...|              PC|          3|            1|          2|   N|                Y|in fact this is t...|This demn tablet ...| 2015-08-31|        0|\n",
      "|         US|   49329488|R1QF6RS1PDLU18|B00TR05L9Y|     778403103|Lenovo TAB2 A10 -...|              PC|          4|            1|          1|   N|                Y|                Good|I am not sure I d...| 2015-08-31|        1|\n",
      "|         US|   50728290|R23AICGEDAJQL1|B0098Y77OG|     177098042|                Acer|              PC|          1|            0|          0|   N|                Y|You get what you ...|After exactly 45 ...| 2015-08-31|        0|\n",
      "|         US|   37802374|R2EY3N4K9W19UP|B00IFYEYXC|     602496520|AzureWave Broadco...|              PC|          5|            3|          4|   N|                Y|Great for Windows...|Replaced my Intel...| 2015-08-31|        1|\n",
      "|         US|   52027882| RC9AW4HKJ016M|B0091ITP0S|     977217357|HDE Rotating iPad...|              PC|          1|            0|          0|   N|                Y|            One Star|IT HAS ALREADY CR...| 2015-08-31|        0|\n",
      "|         US|   41770239|R2ALWJE9N6ZBXD|B008I21EA2|     295632907|Linksys AC1750 Wi...|              PC|          1|            0|          0|   N|                N|   Very Disappointed|Very disappointed...| 2015-08-31|        0|\n",
      "|         US|   42560427|R2G5FPA4OX37GV|B00MRB7SBO|     922591915|iPad Pro 9.7, iPa...|              PC|          5|            1|          1|   N|                Y|          Five Stars|Works well. I use...| 2015-08-31|        1|\n",
      "|         US|   46345923|R1IKTSEVXSIMOD|B00LLER2CS|     997551273|SanDisk 16GB CZ43...|              PC|          5|            0|          0|   N|                Y|The encryption so...|The encryption so...| 2015-08-31|        1|\n",
      "|         US|   41751192|R2YA6G6SRFEWF6|B00B0CQCCC|     937999925|TRENDnet Wireless...|              PC|          1|            0|          1|   N|                Y|Didn't last 2 years.|I have owned this...| 2015-08-31|        0|\n",
      "|         US|   21176481| RS9H1N9I3Z1IA|B00GU8W5AE|      13865167|Redragon M901 PER...|              PC|          5|            0|          0|   N|                Y|Awesome gaming mouse|My first gaming m...| 2015-08-31|        1|\n",
      "|         US|   10674058| RKKLBI76VTDNT|B00XHMXJQ0|     967483469|Mudder MHL Adapte...|              PC|          1|            0|          0|   N|                Y|            One Star|I cannot get it t...| 2015-08-31|        0|\n",
      "|         US|   43341796|R2NJ3WFUS4E5G6|B00YGJJQ6U|     986548413|Fintie iPad Air 2...|              PC|          4|            0|          0|   N|                Y|Great choices of ...|Love that Finite ...| 2015-08-31|        1|\n",
      "|         US|   13232866|R21PTQNLGCBN0I|B00XMN20Y6|     873354048|Fintie iPad 2/3/4...|              PC|          5|            0|          0|   N|                Y|          Five Stars|Nice color, I lov...| 2015-08-31|        1|\n",
      "|         US|   29333557|R3G4RT3EQ9RSY7|B00MA40W9I|     535866197|Egoway® New Lapto...|              PC|          1|            0|          0|   N|                Y|Totally wasted $6...|Totally wasted $6...| 2015-08-31|        0|\n",
      "+-----------+-----------+--------------+----------+--------------+--------------------+----------------+-----------+-------------+-----------+----+-----------------+--------------------+--------------------+-----------+---------+\n",
      "only showing top 20 rows\n",
      "\n"
     ]
    }
   ],
   "source": [
    "df_reviews = FileManager.open_csv_file(PATH, FILE)"
   ]
  },
  {
   "cell_type": "code",
   "execution_count": 9,
   "metadata": {},
   "outputs": [
    {
     "name": "stdout",
     "output_type": "stream",
     "text": [
      "columns in the dataset: 16\n"
     ]
    },
    {
     "name": "stderr",
     "output_type": "stream",
     "text": [
      "[Stage 3:>                                                          (0 + 1) / 1]\r"
     ]
    },
    {
     "name": "stdout",
     "output_type": "stream",
     "text": [
      "rows in the dataset: 6906564\n"
     ]
    },
    {
     "name": "stderr",
     "output_type": "stream",
     "text": [
      "                                                                                \r"
     ]
    }
   ],
   "source": [
    "StatisticalAnalysisHelper.dataset_dimensions(df_reviews)"
   ]
  },
  {
   "cell_type": "code",
   "execution_count": 10,
   "metadata": {},
   "outputs": [
    {
     "name": "stdout",
     "output_type": "stream",
     "text": [
      "root\n",
      " |-- marketplace: string (nullable = true)\n",
      " |-- customer_id: integer (nullable = true)\n",
      " |-- review_id: string (nullable = true)\n",
      " |-- product_id: string (nullable = true)\n",
      " |-- product_parent: integer (nullable = true)\n",
      " |-- product_title: string (nullable = true)\n",
      " |-- product_category: string (nullable = true)\n",
      " |-- star_rating: integer (nullable = true)\n",
      " |-- helpful_votes: integer (nullable = true)\n",
      " |-- total_votes: integer (nullable = true)\n",
      " |-- vine: string (nullable = true)\n",
      " |-- verified_purchase: string (nullable = true)\n",
      " |-- review_headline: string (nullable = true)\n",
      " |-- review_body: string (nullable = true)\n",
      " |-- review_date: date (nullable = true)\n",
      " |-- sentiment: integer (nullable = true)\n",
      "\n"
     ]
    }
   ],
   "source": [
    "StatisticalAnalysisHelper.schema_information(df_reviews)"
   ]
  },
  {
   "cell_type": "code",
   "execution_count": 11,
   "metadata": {},
   "outputs": [
    {
     "name": "stderr",
     "output_type": "stream",
     "text": [
      "25/04/27 13:58:34 WARN SparkStringUtils: Truncated the string representation of a plan since it was too large. This behavior can be adjusted by setting 'spark.sql.debug.maxToStringFields'.\n",
      "[Stage 6:>                                                          (0 + 1) / 1]\r"
     ]
    },
    {
     "name": "stdout",
     "output_type": "stream",
     "text": [
      "+-------+-----------+--------------------+--------------+--------------------+--------------------+-------------------------------------------------------+----------------+-----------------+------------------+------------------+-------+-----------------+----------------------------------------------------------------------+--------------------------------------------------------------------------------------------------------------------------------------------------------------------------------------------------------------------------------------------------------------+------------------+\n",
      "|summary|marketplace|customer_id         |review_id     |product_id          |product_parent      |product_title                                          |product_category|star_rating      |helpful_votes     |total_votes       |vine   |verified_purchase|review_headline                                                       |review_body                                                                                                                                                                                                                                                   |sentiment         |\n",
      "+-------+-----------+--------------------+--------------+--------------------+--------------------+-------------------------------------------------------+----------------+-----------------+------------------+------------------+-------+-----------------+----------------------------------------------------------------------+--------------------------------------------------------------------------------------------------------------------------------------------------------------------------------------------------------------------------------------------------------------+------------------+\n",
      "|count  |6906564    |6906564             |6906564       |6906564             |6906564             |6906564                                                |6906564         |6906564          |6906564           |6906564           |6906564|6906564          |6906564                                                               |6906564                                                                                                                                                                                                                                                       |6906564           |\n",
      "|mean   |NULL       |2.799257247625172E7 |NULL          |7.784060019910656E9 |4.9166335483220977E8|3063.133004032258                                      |NULL            |4.086460937739808|1.4844511684826203|1.9620770907212328|NULL   |NULL             |Infinity                                                              |63.88157894736842                                                                                                                                                                                                                                             |0.7636061868101128|\n",
      "|stddev |NULL       |1.5572197138978068E7|NULL          |3.5410264135332127E9|2.8901115508420634E8|13807.905764291976                                     |NULL            |1.362854001234071|41.49142556564166 |43.07079218821245 |NULL   |NULL             |NaN                                                                   |729.9122389794957                                                                                                                                                                                                                                             |0.424866807848865 |\n",
      "|min    |US         |10016               |R100036YQULDQT|0012425362          |1602                |! NEW ! SDHC Memory Card ( 16gb ) for NIKON SLR D40 D60|PC              |1                |0                 |0                 |N      |N                |\u001a\u001a\u001a\u001a\u001a\u001a                                                                |\\a\\aThe only thing wrong with this monitor is the TN display which after calibration is okay.  IPS panels are going to be more true in color and have better off viewing angles.  This is a good overall value if you are looking for a multi purpose display.|0                 |\n",
      "|25%    |NULL       |14419422            |NULL          |7.303009426E9       |242889999           |700.0                                                  |NULL            |4                |0                 |0                 |NULL   |NULL             |2.0                                                                   |1.0                                                                                                                                                                                                                                                           |1                 |\n",
      "|50%    |NULL       |26791807            |NULL          |9.875849669E9       |488442804           |700.0                                                  |NULL            |5                |0                 |0                 |NULL   |NULL             |5.0                                                                   |1.0                                                                                                                                                                                                                                                           |1                 |\n",
      "|75%    |NULL       |42659658            |NULL          |9.966633316E9       |742866380           |3911.0                                                 |NULL            |5                |1                 |1                 |NULL   |NULL             |350.0                                                                 |1.0                                                                                                                                                                                                                                                           |1                 |\n",
      "|max    |US         |53096585            |RZZZZVPMF8NFZ |BT008T2BGK          |999996025           |技MIX 技ACE 01 エースコンバット F-15C ガルム1          |PC              |5                |47524             |48362             |Y      |Y                |🚵Multi helper of back pack P.KU.VDSL really know's how to make bag's.|🙌🏾🙌🏾🙌🏾🙌🏾🙌🏾                                                                                                                                                                                                                                          |1                 |\n",
      "+-------+-----------+--------------------+--------------+--------------------+--------------------+-------------------------------------------------------+----------------+-----------------+------------------+------------------+-------+-----------------+----------------------------------------------------------------------+--------------------------------------------------------------------------------------------------------------------------------------------------------------------------------------------------------------------------------------------------------------+------------------+\n",
      "\n"
     ]
    },
    {
     "name": "stderr",
     "output_type": "stream",
     "text": [
      "                                                                                \r"
     ]
    }
   ],
   "source": [
    "StatisticalAnalysisHelper.descriptive_statistics(df_reviews)"
   ]
  },
  {
   "cell_type": "code",
   "execution_count": 12,
   "metadata": {},
   "outputs": [
    {
     "name": "stderr",
     "output_type": "stream",
     "text": [
      "[Stage 9:>                                                          (0 + 1) / 1]\r"
     ]
    },
    {
     "name": "stdout",
     "output_type": "stream",
     "text": [
      "+-----------+-----------+---------+----------+--------------+-------------+----------------+-----------+-------------+-----------+----+-----------------+---------------+-----------+-----------+---------+\n",
      "|marketplace|customer_id|review_id|product_id|product_parent|product_title|product_category|star_rating|helpful_votes|total_votes|vine|verified_purchase|review_headline|review_body|review_date|sentiment|\n",
      "+-----------+-----------+---------+----------+--------------+-------------+----------------+-----------+-------------+-----------+----+-----------------+---------------+-----------+-----------+---------+\n",
      "|0          |0          |0        |0         |0             |0            |0               |0          |0            |0          |0   |0                |0              |0          |0          |0        |\n",
      "+-----------+-----------+---------+----------+--------------+-------------+----------------+-----------+-------------+-----------+----+-----------------+---------------+-----------+-----------+---------+\n",
      "\n"
     ]
    },
    {
     "name": "stderr",
     "output_type": "stream",
     "text": [
      "                                                                                \r"
     ]
    }
   ],
   "source": [
    "missing_values = StatisticalAnalysisHelper.missing_values_table(df_reviews)\n",
    "missing_values.show(truncate=False)"
   ]
  },
  {
   "cell_type": "markdown",
   "metadata": {},
   "source": [
    "It's worth noting that this dataset seems somewhat suspicious. It doesn't have any missing values, which is great for our use case as it simplifies the analysis by eliminating the need to handle incomplete data.\n",
    "\n",
    "However, the absence of missing values is unusual in real-world datasets, where incomplete records are often present. This raises the possibility that the dataset might not be entirely authentic or could have been autogenerated. While it's impossible to confirm, the dataset’s structure and the perfect data cleanliness suggest that it may not come from a natural source. This could potentially affect the reliability of any analysis performed using this data."
   ]
  },
  {
   "cell_type": "code",
   "execution_count": 13,
   "metadata": {},
   "outputs": [
    {
     "name": "stderr",
     "output_type": "stream",
     "text": [
      "                                                                                \r"
     ]
    },
    {
     "data": {
      "image/png": "[encoded data removed]",
      "text/plain": [
       "<Figure size 1000x600 with 1 Axes>"
      ]
     },
     "metadata": {},
     "output_type": "display_data"
    }
   ],
   "source": [
    "VisualAnalysisHelper.missing_values_plot(missing_values)"
   ]
  },
  {
   "cell_type": "code",
   "execution_count": 14,
   "metadata": {},
   "outputs": [
    {
     "name": "stderr",
     "output_type": "stream",
     "text": [
      "                                                                                \r"
     ]
    },
    {
     "data": {
      "image/png": "[encoded data removed]",
      "text/plain": [
       "<Figure size 800x500 with 1 Axes>"
      ]
     },
     "metadata": {},
     "output_type": "display_data"
    }
   ],
   "source": [
    "VisualAnalysisHelper.column_distribution_plot(df_reviews, \"star_rating\", \"Star Rating\", \"Number of Reviews\")"
   ]
  },
  {
   "cell_type": "code",
   "execution_count": 15,
   "metadata": {},
   "outputs": [
    {
     "name": "stderr",
     "output_type": "stream",
     "text": [
      "                                                                                \r"
     ]
    },
    {
     "data": {
      "image/png": "[encoded data removed]",
      "text/plain": [
       "<Figure size 800x500 with 1 Axes>"
      ]
     },
     "metadata": {},
     "output_type": "display_data"
    }
   ],
   "source": [
    "VisualAnalysisHelper.column_distribution_plot(df_reviews, \"sentiment\", \"Sentiment\", \"Number of Reviews\")"
   ]
  },
  {
   "cell_type": "markdown",
   "metadata": {},
   "source": [
    "Despite the potential concerns regarding its authenticity, the dataset does show a certain level of consistency. For instance, as we can see above, the 5-star reviews align well with other attributes, such as the sentiment and the text provided in the review body. Positive reviews typically correlate with high ratings and sentiment scores, which makes sense and supports the integrity of the dataset, at least in this regard. This consistency is crucial for building reliable models, as it indicates that, despite the dataset's suspicious origin, it still follows logical patterns in terms of how reviews and ratings are structured."
   ]
  }
 ],
 "metadata": {
  "kernelspec": {
   "display_name": "venv",
   "language": "python",
   "name": "python3"
  },
  "language_info": {
   "codemirror_mode": {
    "name": "ipython",
    "version": 3
   },
   "file_extension": ".py",
   "mimetype": "text/x-python",
   "name": "python",
   "nbconvert_exporter": "python",
   "pygments_lexer": "ipython3",
   "version": "3.13.2"
  }
 },
 "nbformat": 4,
 "nbformat_minor": 2
}
