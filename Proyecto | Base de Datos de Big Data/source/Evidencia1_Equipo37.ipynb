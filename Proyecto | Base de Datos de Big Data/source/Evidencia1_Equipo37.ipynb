{
 "cells": [
  {
   "cell_type": "markdown",
   "metadata": {
    "id": "b76-wzVC9aOj"
   },
   "source": [
    "# Proyecto | Base de Datos de Big Data\n",
    "---"
   ]
  },
  {
   "cell_type": "markdown",
   "metadata": {
    "id": "7aVcfi6e9aOm"
   },
   "source": [
    "**MAESTRÍA EN INTELIGENCIA ARTIFICIAL APLICADA**\n",
    "\n",
    "**Curso: TC4034.10 - Análisis de grandes volúmenes de datos**\n",
    "\n",
    "Tecnológico de Monterrey\n",
    "\n",
    "* Dr. Iván Olmos Pineda\n",
    "* Mtra. Verónica Sandra Guzmán de Valle\n",
    "* Mtro. Alberto Daniel Salinas Montemayor\n",
    "\n",
    "**Proyecto**\n",
    "Base de Datos de Big Data\n",
    "\n",
    "---"
   ]
  },
  {
   "cell_type": "markdown",
   "metadata": {
    "id": "4fV8rbLc9aOm"
   },
   "source": [
    "**Equipo 37**\n",
    "\n",
    "|  NOMBRE COMPLETO                        |     MATRÍCULA     |\n",
    "| :-------------------------------------: |:-----------------:|\n",
    "| Alejandro Díaz Villagómez               |  A01276769        |\n",
    "| Alonso Pedrero Martínez                 |  A01769076        |\n",
    "| César Iván Pedrero Martínez             |  A01366501        |\n",
    "| Emiliano Saucedo Arriola                |  A01659258        |"
   ]
  },
  {
   "cell_type": "markdown",
   "metadata": {
    "id": "OT_IdX4X9aOn"
   },
   "source": [
    "# Amazon Reviews\n",
    "---\n",
    "\n",
    "### **Selección**\n",
    "\n",
    "| **Campo**              | **Detalle**                                                                                  |\n",
    "|-------------------------|----------------------------------------------------------------------------------------------|\n",
    "| Nombre del dataset      | Amazon-reviews                                                                               |\n",
    "| Enlace                  | [Amazon-reviews en Kaggle](https://www.kaggle.com/datasets/machharavikiran/amazon-reviews?resource=download) |\n",
    "| Publicador              | Machha Ravi Kiran                                                                            |\n",
    "| Última actualización    | Hace aproximadamente 2 años                                                                  |\n",
    "| Formato - Tamaño        | CSV - 3.68 GB                                                                                 |\n",
    "| Fuente                  | Repositorio Kaggle (acceso público)                                                           |\n",
    "\n",
    "\n",
    "### **Atributos del Conjunto de Datos**\n",
    "\n",
    "| Columna           | Tipo de dato | Descripción                                      |\n",
    "|-------------------|--------------|--------------------------------------------------|\n",
    "| marketplace       | string       | Mercado donde se realizó la compra               |\n",
    "| customer_id       | integer      | Identificador único del cliente                        |\n",
    "| review_id         | string       | Identificador único de la reseña                 |\n",
    "| product_id        | string       | Identificador del producto                      |\n",
    "| product_parent    | integer      | Identificador de grupo o \"padre\" para productos similares o relacionados             |\n",
    "| product_title     | string       | Nombre del producto                              |\n",
    "| product_category  | string       | Categoría del producto                           |\n",
    "| star_rating       | integer      | Calificación otorgada por el cliente (1-5)             |\n",
    "| helpful_votes     | integer      | Número de votos útiles recibidos por la reseña    |\n",
    "| total_votes       | integer      | Número total de votos recibidos                  |\n",
    "| vine              | string       | Participación en el programa Vine de reseñas (Y para sí, N para no)    |\n",
    "| verified_purchase | string       | Indicador de compra verificada (Y para sí, N para no)                  |\n",
    "| review_headline   | string       | Encabezado de la reseña                          |\n",
    "| review_body       | string       | Cuerpo del texto de la reseña                    |\n",
    "| review_date       | date         | Fecha en que se realizó la reseña                |\n",
    "| sentiment         | integer      | Valor de sentimiento asignado a la reseña (1 para positivo, 0 para negativo)       |\n",
    "  \n",
    "\n",
    "### **Descripción General**\n",
    "---\n",
    "\n",
    "El conjunto de datos utilizado contiene reseñas de productos publicadas en Amazon, con un énfasis particular en artículos de la categoría electrónica. Cada registro incluye múltiples variables relevantes, tales como la calificación otorgada por el usuario (`star_rating`), la veracidad de la compra (`verified_purchase`), la participación en el programa Vine (vine), el contenido de la reseña (`review_body`, `review_headline`), y una etiqueta de sentimiento (`sentiment`) derivada.\n",
    "\n",
    "Este dataset es adecuado para este proyecto por varias razones: su tamaño es considerable, lo cual permite aplicar técnicas de análisis de datos a gran escala; su estructura tabular es compatible con herramientas como PySpark; y proviene de una fuente reconocida (Kaggle), lo que respalda su validez y calidad. Estas características permiten realizar análisis de segmentación y muestreo para construir conjuntos de datos que representen adecuadamente distintos perfiles de usuarios y tipos de reseñas.\n",
    "\n",
    "### **Descripción de Reglas de Particionamiento**\n",
    "---\n",
    "\n",
    "El proceso de particionamiento se diseñó a partir de tres variables categóricas clave del conjunto de datos:\n",
    "\n",
    "* `star_rating`: calificación numérica del producto otorgada por el usuario (1 a 5),\n",
    "* `verified_purchase`: indicador binario que refleja si la reseña proviene de una compra verificada (`\"Y\"` o `\"N\"`),\n",
    "* `vine`: indicador de participación en el programa de reseñas Vine de Amazon (`\"Y\"` o `\"N\"`).\n",
    "\n",
    "A partir de estas variables se generaron **20 combinaciones** distintas (5 × 2 × 2), cada una representando un subconjunto del conjunto de datos con características particulares. Por ejemplo:\n",
    "\n",
    "* `R1_VPY_VY`: Calificación 1, compra verificada, usuario Vine.\n",
    "* `R5_VPN_VN`: Calificación 5, compra no verificada, usuario no Vine.\n",
    "\n",
    "Cada una de estas combinaciones fue utilizada como regla para filtrar el conjunto de datos y formar una partición independiente.\n",
    "\n",
    "Estas reglas permiten observar el comportamiento del sentimiento de las reseñas bajo diferentes perfiles de usuario y producto, facilitando un análisis más granular. A cada partición se le asignó una clave en el formato:\n",
    "\n",
    "```\n",
    "R{star_rating}_VP{Y|N}_V{Y|N}\n",
    "```\n",
    "\n",
    "Las particiones con un volumen de datos suficiente fueron utilizadas para aplicar técnicas de muestreo estratificado basadas en la variable de salida `sentiment`.\n"
   ]
  },
  {
   "cell_type": "markdown",
   "metadata": {
    "id": "SbPRUtjj9aOn"
   },
   "source": [
    "## 0. Inicialización"
   ]
  },
  {
   "cell_type": "markdown",
   "metadata": {
    "id": "X-sI2GxS9aOn"
   },
   "source": [
    "> Tenga en cuenta que para ejecutar este notebook, deberá instalar algunas dependencias. Se recomienda ejecutar este comando para instalarlo en un entorno virtual. Para ello, siga este comando:\n",
    "\n",
    "```bash\n",
    "pip install findspark pyspark setuptools\n",
    "```"
   ]
  },
  {
   "cell_type": "code",
   "execution_count": 1,
   "metadata": {
    "id": "30uHFU2j9aOo"
   },
   "outputs": [],
   "source": [
    "import findspark\n",
    "from pyspark.sql import SparkSession, functions as F\n",
    "from itertools import product\n",
    "from os import path"
   ]
  },
  {
   "cell_type": "code",
   "execution_count": 2,
   "metadata": {
    "colab": {
     "base_uri": "https://localhost:8080/",
     "height": 35
    },
    "executionInfo": {
     "elapsed": 2,
     "status": "ok",
     "timestamp": 1746239230220,
     "user": {
      "displayName": "Alejandro Díaz Villagómez",
      "userId": "18121581617394557263"
     },
     "user_tz": 360
    },
    "id": "-22urZFv9aOp",
    "outputId": "23eab5f0-7baf-4e2e-bc5b-d26e4e8eed75"
   },
   "outputs": [
    {
     "data": {
      "text/plain": [
       "'/Users/alonsopedreromartinez/Documents/GitHub/TC4034.10-Equipo-37/act_1_big_data/lib/python3.12/site-packages/pyspark'"
      ]
     },
     "execution_count": 2,
     "metadata": {},
     "output_type": "execute_result"
    }
   ],
   "source": [
    "findspark.init()\n",
    "findspark.find()"
   ]
  },
  {
   "cell_type": "markdown",
   "metadata": {
    "id": "15Ax1Sju9aOo"
   },
   "source": [
    "### Definición de clases auxiliares"
   ]
  },
  {
   "cell_type": "code",
   "execution_count": 3,
   "metadata": {
    "id": "ZFVaUZIs9aOp"
   },
   "outputs": [],
   "source": [
    "class FileManager():\n",
    "    @staticmethod\n",
    "    def open_csv_file(input_path : str, file_name : str):\n",
    "        \"\"\"\n",
    "        This method opens a csv file with pyspark\n",
    "        \"\"\"\n",
    "        csv_df = spark.read.csv(\n",
    "            path.join(input_path, file_name),\n",
    "            header=True,\n",
    "            inferSchema=True,\n",
    "            multiLine=True,\n",
    "            escape=\"\\\"\",\n",
    "            quote=\"\\\"\"\n",
    "        )\n",
    "\n",
    "        csv_df.show(truncate=20)\n",
    "\n",
    "        return csv_df"
   ]
  },
  {
   "cell_type": "code",
   "execution_count": 4,
   "metadata": {
    "colab": {
     "base_uri": "https://localhost:8080/",
     "height": 221
    },
    "executionInfo": {
     "elapsed": 16388,
     "status": "ok",
     "timestamp": 1746239246620,
     "user": {
      "displayName": "Alejandro Díaz Villagómez",
      "userId": "18121581617394557263"
     },
     "user_tz": 360
    },
    "id": "caKlYY1e9aOp",
    "outputId": "5745b819-976b-4a67-8e78-3f114648dc6b"
   },
   "outputs": [
    {
     "name": "stderr",
     "output_type": "stream",
     "text": [
      "Setting default log level to \"WARN\".\n",
      "To adjust logging level use sc.setLogLevel(newLevel). For SparkR, use setLogLevel(newLevel).\n",
      "25/05/04 14:00:28 WARN NativeCodeLoader: Unable to load native-hadoop library for your platform... using builtin-java classes where applicable\n",
      "25/05/04 14:00:28 WARN Utils: Service 'SparkUI' could not bind on port 4040. Attempting port 4041.\n"
     ]
    },
    {
     "data": {
      "text/html": [
       "\n",
       "            <div>\n",
       "                <p><b>SparkSession - in-memory</b></p>\n",
       "                \n",
       "        <div>\n",
       "            <p><b>SparkContext</b></p>\n",
       "\n",
       "            <p><a href=\"http://192.168.1.13:4041\">Spark UI</a></p>\n",
       "\n",
       "            <dl>\n",
       "              <dt>Version</dt>\n",
       "                <dd><code>v3.5.5</code></dd>\n",
       "              <dt>Master</dt>\n",
       "                <dd><code>local[*]</code></dd>\n",
       "              <dt>AppName</dt>\n",
       "                <dd><code>pyspark-shell</code></dd>\n",
       "            </dl>\n",
       "        </div>\n",
       "        \n",
       "            </div>\n",
       "        "
      ],
      "text/plain": [
       "<pyspark.sql.session.SparkSession at 0x108f9cce0>"
      ]
     },
     "execution_count": 4,
     "metadata": {},
     "output_type": "execute_result"
    }
   ],
   "source": [
    "spark = SparkSession.builder.master(\"local[*]\").getOrCreate()\n",
    "spark.sparkContext.setLogLevel(\"ERROR\")\n",
    "spark.conf.set(\"spark.sql.repl.eagerEval.enabled\", True)\n",
    "\n",
    "spark"
   ]
  },
  {
   "cell_type": "markdown",
   "metadata": {
    "id": "IjTIoV8F9aOp"
   },
   "source": [
    "### Cargar Dataset"
   ]
  },
  {
   "cell_type": "code",
   "execution_count": 5,
   "metadata": {
    "colab": {
     "base_uri": "https://localhost:8080/"
    },
    "executionInfo": {
     "elapsed": 71466,
     "status": "ok",
     "timestamp": 1746239318085,
     "user": {
      "displayName": "Alejandro Díaz Villagómez",
      "userId": "18121581617394557263"
     },
     "user_tz": 360
    },
    "id": "qFL5KyjO9aOp",
    "outputId": "98e488eb-94e4-44b7-bb5f-f3472470874d"
   },
   "outputs": [],
   "source": [
    "PATH = \"../files\"\n",
    "FILE = \"amazon_electronics.csv\""
   ]
  },
  {
   "cell_type": "code",
   "execution_count": 6,
   "metadata": {
    "colab": {
     "base_uri": "https://localhost:8080/",
     "height": 869
    },
    "executionInfo": {
     "elapsed": 53053,
     "status": "ok",
     "timestamp": 1746239371137,
     "user": {
      "displayName": "Alejandro Díaz Villagómez",
      "userId": "18121581617394557263"
     },
     "user_tz": 360
    },
    "id": "Ckx2cb_D9aOq",
    "outputId": "2948bbfb-ac0e-4a6e-f9aa-d531f1784ae6"
   },
   "outputs": [
    {
     "name": "stderr",
     "output_type": "stream",
     "text": [
      "                                                                                \r"
     ]
    },
    {
     "name": "stdout",
     "output_type": "stream",
     "text": [
      "+-----------+-----------+--------------+----------+--------------+--------------------+----------------+-----------+-------------+-----------+----+-----------------+--------------------+--------------------+-----------+---------+\n",
      "|marketplace|customer_id|     review_id|product_id|product_parent|       product_title|product_category|star_rating|helpful_votes|total_votes|vine|verified_purchase|     review_headline|         review_body|review_date|sentiment|\n",
      "+-----------+-----------+--------------+----------+--------------+--------------------+----------------+-----------+-------------+-----------+----+-----------------+--------------------+--------------------+-----------+---------+\n",
      "|         US|   22873041|R3ARRMDEGED8RD|B00KJWQIIC|     335625766|Plemo 14-Inch Lap...|              PC|          5|            0|          0|   N|                Y|Pleasantly surprised|I was very surpri...| 2015-08-31|        1|\n",
      "|         US|   30088427| RQ28TSA020Y6J|B013ALA9LA|     671157305|TP-Link OnHub AC1...|              PC|          5|           24|         31|   N|                N|OnHub is a pretty...|I am a Google emp...| 2015-08-31|        1|\n",
      "|         US|   20329786| RUXJRZCT6953M|B00PML2GQ8|     982036237|AmazonBasics USB ...|              PC|          1|            2|          2|   N|                N|None of them work...|Bought cables in ...| 2015-08-31|        0|\n",
      "|         US|   14215710| R7EO0UO6BPB71|B001NS0OZ4|     576587596|Transcend P8 15-i...|              PC|          1|            0|          0|   N|                Y|just keep searching.|nope, cheap and slow| 2015-08-31|        0|\n",
      "|         US|   38264512|R39NJY2YJ1JFSV|B00AQMTND2|     964759214|Aleratec SATA Dat...|              PC|          5|            0|          0|   N|                Y|          Five Stars|Excellent! Great ...| 2015-08-31|        1|\n",
      "|         US|   30548466|R31SR7REWNX7CF|B00KX4TORI|     170101802|Kingston Digital ...|              PC|          5|            0|          0|   N|                Y|Good quality, wor...|Good quality,work...| 2015-08-31|        1|\n",
      "|         US|     589298| RVBP8I1R0CTZ8|B00P17WEMY|     206124740|White 9 Inch Unlo...|              PC|          3|            1|          2|   N|                Y|in fact this is t...|This demn tablet ...| 2015-08-31|        0|\n",
      "|         US|   49329488|R1QF6RS1PDLU18|B00TR05L9Y|     778403103|Lenovo TAB2 A10 -...|              PC|          4|            1|          1|   N|                Y|                Good|I am not sure I d...| 2015-08-31|        1|\n",
      "|         US|   50728290|R23AICGEDAJQL1|B0098Y77OG|     177098042|                Acer|              PC|          1|            0|          0|   N|                Y|You get what you ...|After exactly 45 ...| 2015-08-31|        0|\n",
      "|         US|   37802374|R2EY3N4K9W19UP|B00IFYEYXC|     602496520|AzureWave Broadco...|              PC|          5|            3|          4|   N|                Y|Great for Windows...|Replaced my Intel...| 2015-08-31|        1|\n",
      "|         US|   52027882| RC9AW4HKJ016M|B0091ITP0S|     977217357|HDE Rotating iPad...|              PC|          1|            0|          0|   N|                Y|            One Star|IT HAS ALREADY CR...| 2015-08-31|        0|\n",
      "|         US|   41770239|R2ALWJE9N6ZBXD|B008I21EA2|     295632907|Linksys AC1750 Wi...|              PC|          1|            0|          0|   N|                N|   Very Disappointed|Very disappointed...| 2015-08-31|        0|\n",
      "|         US|   42560427|R2G5FPA4OX37GV|B00MRB7SBO|     922591915|iPad Pro 9.7, iPa...|              PC|          5|            1|          1|   N|                Y|          Five Stars|Works well. I use...| 2015-08-31|        1|\n",
      "|         US|   46345923|R1IKTSEVXSIMOD|B00LLER2CS|     997551273|SanDisk 16GB CZ43...|              PC|          5|            0|          0|   N|                Y|The encryption so...|The encryption so...| 2015-08-31|        1|\n",
      "|         US|   41751192|R2YA6G6SRFEWF6|B00B0CQCCC|     937999925|TRENDnet Wireless...|              PC|          1|            0|          1|   N|                Y|Didn't last 2 years.|I have owned this...| 2015-08-31|        0|\n",
      "|         US|   21176481| RS9H1N9I3Z1IA|B00GU8W5AE|      13865167|Redragon M901 PER...|              PC|          5|            0|          0|   N|                Y|Awesome gaming mouse|My first gaming m...| 2015-08-31|        1|\n",
      "|         US|   10674058| RKKLBI76VTDNT|B00XHMXJQ0|     967483469|Mudder MHL Adapte...|              PC|          1|            0|          0|   N|                Y|            One Star|I cannot get it t...| 2015-08-31|        0|\n",
      "|         US|   43341796|R2NJ3WFUS4E5G6|B00YGJJQ6U|     986548413|Fintie iPad Air 2...|              PC|          4|            0|          0|   N|                Y|Great choices of ...|Love that Finite ...| 2015-08-31|        1|\n",
      "|         US|   13232866|R21PTQNLGCBN0I|B00XMN20Y6|     873354048|Fintie iPad 2/3/4...|              PC|          5|            0|          0|   N|                Y|          Five Stars|Nice color, I lov...| 2015-08-31|        1|\n",
      "|         US|   29333557|R3G4RT3EQ9RSY7|B00MA40W9I|     535866197|Egoway® New Lapto...|              PC|          1|            0|          0|   N|                Y|Totally wasted $6...|Totally wasted $6...| 2015-08-31|        0|\n",
      "+-----------+-----------+--------------+----------+--------------+--------------------+----------------+-----------+-------------+-----------+----+-----------------+--------------------+--------------------+-----------+---------+\n",
      "only showing top 20 rows\n",
      "\n"
     ]
    }
   ],
   "source": [
    "df_reviews = FileManager.open_csv_file(PATH, FILE)"
   ]
  },
  {
   "cell_type": "markdown",
   "metadata": {
    "id": "qw5V-6jA9aOq"
   },
   "source": [
    "## 1. Caracterización"
   ]
  },
  {
   "cell_type": "markdown",
   "metadata": {
    "id": "wM-Tf64C9aOq"
   },
   "source": [
    "### Análisis del mercado (`marketplace`)\n",
    "\n",
    "Observaciones:\n",
    "* El mercado se centra únicamente en US."
   ]
  },
  {
   "cell_type": "code",
   "execution_count": 7,
   "metadata": {
    "colab": {
     "base_uri": "https://localhost:8080/"
    },
    "executionInfo": {
     "elapsed": 36482,
     "status": "ok",
     "timestamp": 1746239407618,
     "user": {
      "displayName": "Alejandro Díaz Villagómez",
      "userId": "18121581617394557263"
     },
     "user_tz": 360
    },
    "id": "3vel9Cwn9aOq",
    "outputId": "cf32ac59-a7b4-4cff-ab00-a66bf7fb4d94"
   },
   "outputs": [
    {
     "name": "stderr",
     "output_type": "stream",
     "text": [
      "[Stage 3:>                                                          (0 + 1) / 1]\r"
     ]
    },
    {
     "name": "stdout",
     "output_type": "stream",
     "text": [
      "+-----------+-------+\n",
      "|marketplace|  count|\n",
      "+-----------+-------+\n",
      "|         US|6906564|\n",
      "+-----------+-------+\n",
      "\n"
     ]
    },
    {
     "name": "stderr",
     "output_type": "stream",
     "text": [
      "                                                                                \r"
     ]
    }
   ],
   "source": [
    "df_reviews.groupBy(\"marketplace\").agg(\n",
    "    F.count(\"*\").alias(\"count\")\n",
    ").orderBy(F.desc(\"count\")).show()\n"
   ]
  },
  {
   "cell_type": "markdown",
   "metadata": {
    "id": "4ZpKFNge9aOq"
   },
   "source": [
    "### Análisis de categorías (`product_category`)\n",
    "\n",
    "Observaciones:\n",
    "* Las reseñas pertecen solamente a la categoría de PC."
   ]
  },
  {
   "cell_type": "code",
   "execution_count": 8,
   "metadata": {
    "colab": {
     "base_uri": "https://localhost:8080/"
    },
    "executionInfo": {
     "elapsed": 30953,
     "status": "ok",
     "timestamp": 1746239438570,
     "user": {
      "displayName": "Alejandro Díaz Villagómez",
      "userId": "18121581617394557263"
     },
     "user_tz": 360
    },
    "id": "tQpjRbve9aOr",
    "outputId": "9d6ce6d6-5ea5-4057-e016-f3c61b226bf5"
   },
   "outputs": [
    {
     "name": "stderr",
     "output_type": "stream",
     "text": [
      "[Stage 6:>                                                          (0 + 1) / 1]\r"
     ]
    },
    {
     "name": "stdout",
     "output_type": "stream",
     "text": [
      "+----------------+-------+\n",
      "|product_category|  count|\n",
      "+----------------+-------+\n",
      "|              PC|6906564|\n",
      "+----------------+-------+\n",
      "\n"
     ]
    },
    {
     "name": "stderr",
     "output_type": "stream",
     "text": [
      "                                                                                \r"
     ]
    }
   ],
   "source": [
    "df_reviews.groupBy(\"product_category\").agg(\n",
    "    F.count(\"*\").alias(\"count\")\n",
    ").orderBy(F.desc(\"count\")).show()"
   ]
  },
  {
   "cell_type": "markdown",
   "metadata": {
    "id": "WP-QpZ859aOr"
   },
   "source": [
    "### Análisis de clasificación de estrellas (`star_rating`)\n",
    "\n",
    "Observaciones:\n",
    "* Fuerte sesgo hacia reseñas positivas.\n",
    "* Alrededor del 60% de las reseñas tienen 5 estrellas, lo que indica una tendencia general positiva."
   ]
  },
  {
   "cell_type": "code",
   "execution_count": 9,
   "metadata": {
    "colab": {
     "base_uri": "https://localhost:8080/"
    },
    "executionInfo": {
     "elapsed": 61866,
     "status": "ok",
     "timestamp": 1746239500434,
     "user": {
      "displayName": "Alejandro Díaz Villagómez",
      "userId": "18121581617394557263"
     },
     "user_tz": 360
    },
    "id": "u7DRv72R9aOr",
    "outputId": "bd0f1548-ddcb-4726-ca69-d602e066ccb1"
   },
   "outputs": [
    {
     "name": "stderr",
     "output_type": "stream",
     "text": [
      "                                                                                \r"
     ]
    },
    {
     "name": "stdout",
     "output_type": "stream",
     "text": [
      "+-----------+-------+\n",
      "|star_rating|  count|\n",
      "+-----------+-------+\n",
      "|          1| 756857|\n",
      "|          2| 362156|\n",
      "|          3| 513656|\n",
      "|          4|1168208|\n",
      "|          5|4105687|\n",
      "+-----------+-------+\n",
      "\n"
     ]
    },
    {
     "name": "stderr",
     "output_type": "stream",
     "text": [
      "[Stage 12:>                                                         (0 + 1) / 1]\r"
     ]
    },
    {
     "name": "stdout",
     "output_type": "stream",
     "text": [
      "+----------------+----------------+-----------------+-------------------+\n",
      "|min(star_rating)|max(star_rating)| avg(star_rating)|stddev(star_rating)|\n",
      "+----------------+----------------+-----------------+-------------------+\n",
      "|               1|               5|4.086460937739808|  1.362854001234071|\n",
      "+----------------+----------------+-----------------+-------------------+\n",
      "\n"
     ]
    },
    {
     "name": "stderr",
     "output_type": "stream",
     "text": [
      "                                                                                \r"
     ]
    }
   ],
   "source": [
    "star_rating_counts = df_reviews.groupBy(\"star_rating\").count().orderBy(\"star_rating\")\n",
    "\n",
    "star_rating_stats = df_reviews.agg(\n",
    "    F.min(\"star_rating\"), F.max(\"star_rating\"),\n",
    "    F.avg(\"star_rating\"), F.stddev(\"star_rating\")\n",
    ")\n",
    "\n",
    "star_rating_counts.show()\n",
    "star_rating_stats.show()"
   ]
  },
  {
   "cell_type": "markdown",
   "metadata": {
    "id": "dDDaQLAm9aOr"
   },
   "source": [
    "### Análisis de votos útiles (`helpful_ratio`)\n",
    "\n",
    "Observaciones:\n",
    "* Los datos sugieren una alta variabilidad en la utilidad percibida de las reseñas."
   ]
  },
  {
   "cell_type": "code",
   "execution_count": 10,
   "metadata": {
    "colab": {
     "base_uri": "https://localhost:8080/"
    },
    "executionInfo": {
     "elapsed": 30202,
     "status": "ok",
     "timestamp": 1746239530635,
     "user": {
      "displayName": "Alejandro Díaz Villagómez",
      "userId": "18121581617394557263"
     },
     "user_tz": 360
    },
    "id": "vEY6r8j29aOr",
    "outputId": "32928df3-c7c2-4713-cb94-d53f482e8e7b"
   },
   "outputs": [
    {
     "name": "stderr",
     "output_type": "stream",
     "text": [
      "[Stage 15:>                                                         (0 + 1) / 1]\r"
     ]
    },
    {
     "name": "stdout",
     "output_type": "stream",
     "text": [
      "+------------------+------------------+-------------------+---------------------+\n",
      "|min(helpful_ratio)|max(helpful_ratio)| avg(helpful_ratio)|stddev(helpful_ratio)|\n",
      "+------------------+------------------+-------------------+---------------------+\n",
      "|               0.0|               1.0|0.23128070845636955|   0.3967627166047604|\n",
      "+------------------+------------------+-------------------+---------------------+\n",
      "\n"
     ]
    },
    {
     "name": "stderr",
     "output_type": "stream",
     "text": [
      "                                                                                \r"
     ]
    }
   ],
   "source": [
    "df_with_ratio = df_reviews.withColumn(\n",
    "    \"helpful_ratio\",\n",
    "    F.when(F.col(\"total_votes\") > 0, F.col(\"helpful_votes\") / F.col(\"total_votes\")).otherwise(0)\n",
    ")\n",
    "\n",
    "helpful_ratio_stats = df_with_ratio.agg(\n",
    "    F.min(\"helpful_ratio\"), F.max(\"helpful_ratio\"),\n",
    "    F.avg(\"helpful_ratio\"), F.stddev(\"helpful_ratio\")\n",
    ")\n",
    "\n",
    "helpful_ratio_stats.show()"
   ]
  },
  {
   "cell_type": "markdown",
   "metadata": {
    "id": "HlsbjSqY9aOr"
   },
   "source": [
    "### Análisis de votos totales (`total_votes`)\n",
    "\n",
    "Observaciones:\n",
    "* En promedio, las reseñas reciben pocos votos (1.96).\n",
    "* Lo anterior sugiere que son pocas las reseñas que reciben gran cantidad de votos."
   ]
  },
  {
   "cell_type": "code",
   "execution_count": 11,
   "metadata": {
    "colab": {
     "base_uri": "https://localhost:8080/"
    },
    "executionInfo": {
     "elapsed": 29299,
     "status": "ok",
     "timestamp": 1746239559933,
     "user": {
      "displayName": "Alejandro Díaz Villagómez",
      "userId": "18121581617394557263"
     },
     "user_tz": 360
    },
    "id": "IiFgPC0e9aOr",
    "outputId": "0d26adc8-bd3e-458d-cd42-738a814d7b9d"
   },
   "outputs": [
    {
     "name": "stderr",
     "output_type": "stream",
     "text": [
      "[Stage 18:>                                                         (0 + 1) / 1]\r"
     ]
    },
    {
     "name": "stdout",
     "output_type": "stream",
     "text": [
      "+----------------+----------------+------------------+-------------------+\n",
      "|min(total_votes)|max(total_votes)|  avg(total_votes)|stddev(total_votes)|\n",
      "+----------------+----------------+------------------+-------------------+\n",
      "|               0|           48362|1.9620770907212328|  43.07079218821245|\n",
      "+----------------+----------------+------------------+-------------------+\n",
      "\n"
     ]
    },
    {
     "name": "stderr",
     "output_type": "stream",
     "text": [
      "                                                                                \r"
     ]
    }
   ],
   "source": [
    "total_votes_stats = df_with_ratio.agg(\n",
    "    F.min(\"total_votes\"), F.max(\"total_votes\"),\n",
    "    F.avg(\"total_votes\"), F.stddev(\"total_votes\")\n",
    ")\n",
    "\n",
    "total_votes_stats.show()"
   ]
  },
  {
   "cell_type": "markdown",
   "metadata": {
    "id": "mTfdsRUH9aOr"
   },
   "source": [
    "### Análisis de sentimiento (`sentiment`)\n",
    "\n",
    "Observaciones:\n",
    "* Se muestra una alta tendencia a sentimientos positivos. Posiblemente exista una alta correlación con el rating (`star_rating`)."
   ]
  },
  {
   "cell_type": "code",
   "execution_count": null,
   "metadata": {
    "colab": {
     "base_uri": "https://localhost:8080/"
    },
    "executionInfo": {
     "elapsed": 60246,
     "status": "ok",
     "timestamp": 1746239620178,
     "user": {
      "displayName": "Alejandro Díaz Villagómez",
      "userId": "18121581617394557263"
     },
     "user_tz": 360
    },
    "id": "-IoN44FY9aOr",
    "outputId": "6dcc16a6-2708-4013-ed9c-740e7adb6d44"
   },
   "outputs": [
    {
     "name": "stderr",
     "output_type": "stream",
     "text": [
      "                                                                                \r"
     ]
    },
    {
     "name": "stdout",
     "output_type": "stream",
     "text": [
      "+---------+-------+\n",
      "|sentiment|  count|\n",
      "+---------+-------+\n",
      "|        0|1632669|\n",
      "|        1|5273895|\n",
      "+---------+-------+\n",
      "\n"
     ]
    },
    {
     "name": "stderr",
     "output_type": "stream",
     "text": [
      "[Stage 24:>                                                         (0 + 1) / 1]\r"
     ]
    },
    {
     "name": "stdout",
     "output_type": "stream",
     "text": [
      "+-------------------+\n",
      "|proporcion_positiva|\n",
      "+-------------------+\n",
      "| 0.7636061868101128|\n",
      "+-------------------+\n",
      "\n"
     ]
    },
    {
     "name": "stderr",
     "output_type": "stream",
     "text": [
      "                                                                                \r"
     ]
    }
   ],
   "source": [
    "sentiment_counts = df_with_ratio.groupBy(\"sentiment\").count().orderBy(\"sentiment\")\n",
    "sentiment_stats = df_with_ratio.agg(F.avg(\"sentiment\").alias(\"positive_proportion\"))\n",
    "\n",
    "sentiment_counts.show()\n",
    "sentiment_stats.show()"
   ]
  },
  {
   "cell_type": "markdown",
   "metadata": {
    "id": "bFmPQ37n9aOr"
   },
   "source": [
    "### Análisis de usuarios (Top 10 `customer_id`)\n",
    "\n",
    "Observaciones:\n",
    "* Algunos clientes han generado más de 350 reseñas, lo que podría señalar una actividad inusual o usuarios con cierta antigüedad en la plataforma.\n",
    "* Esta exploración, permite comprender y detectar posibles sesgos individuales o comportamiento anómalo."
   ]
  },
  {
   "cell_type": "code",
   "execution_count": 13,
   "metadata": {
    "colab": {
     "base_uri": "https://localhost:8080/"
    },
    "executionInfo": {
     "elapsed": 58973,
     "status": "ok",
     "timestamp": 1746239679150,
     "user": {
      "displayName": "Alejandro Díaz Villagómez",
      "userId": "18121581617394557263"
     },
     "user_tz": 360
    },
    "id": "hbhsGsRc9aOr",
    "outputId": "ccdcb18a-807b-4667-8a85-acd85997b6aa"
   },
   "outputs": [
    {
     "name": "stderr",
     "output_type": "stream",
     "text": [
      "[Stage 29:==================================================>       (7 + 1) / 8]\r"
     ]
    },
    {
     "name": "stdout",
     "output_type": "stream",
     "text": [
      "+-----------+-----+\n",
      "|customer_id|count|\n",
      "+-----------+-----+\n",
      "|   17957446|  458|\n",
      "|   44834233|  442|\n",
      "|   52938899|  366|\n",
      "|   45664110|  275|\n",
      "|   49452274|  261|\n",
      "|   50820654|  256|\n",
      "|   12200139|  251|\n",
      "|   45070473|  251|\n",
      "|   32038204|  241|\n",
      "|   49266466|  240|\n",
      "+-----------+-----+\n",
      "\n"
     ]
    },
    {
     "name": "stderr",
     "output_type": "stream",
     "text": [
      "                                                                                \r"
     ]
    }
   ],
   "source": [
    "customer_top10 = df_with_ratio.groupBy(\"customer_id\").count().orderBy(F.desc(\"count\")).limit(10)\n",
    "customer_top10.show()"
   ]
  },
  {
   "cell_type": "markdown",
   "metadata": {
    "id": "Gk4fNuMG9aOs"
   },
   "source": [
    "### Análisis de vine\n",
    "\n",
    "Observaciones:\n",
    "* Son pocas las reseñas que fueron incentivadas por el programa Vine de Amazon."
   ]
  },
  {
   "cell_type": "code",
   "execution_count": 14,
   "metadata": {
    "colab": {
     "base_uri": "https://localhost:8080/"
    },
    "executionInfo": {
     "elapsed": 60270,
     "status": "ok",
     "timestamp": 1746239739418,
     "user": {
      "displayName": "Alejandro Díaz Villagómez",
      "userId": "18121581617394557263"
     },
     "user_tz": 360
    },
    "id": "0N_VUQT49aOs",
    "outputId": "06d580d7-4c39-4e18-986e-1da9343e5c4a"
   },
   "outputs": [
    {
     "name": "stderr",
     "output_type": "stream",
     "text": [
      "[Stage 33:>                                                         (0 + 1) / 1]\r"
     ]
    },
    {
     "name": "stdout",
     "output_type": "stream",
     "text": [
      "+----+-------+----------+\n",
      "|vine|  count|proportion|\n",
      "+----+-------+----------+\n",
      "|   Y|  36228|    0.0052|\n",
      "|   N|6870336|    0.9948|\n",
      "+----+-------+----------+\n",
      "\n"
     ]
    },
    {
     "name": "stderr",
     "output_type": "stream",
     "text": [
      "                                                                                \r"
     ]
    }
   ],
   "source": [
    "vine_counts = df_with_ratio.groupBy(\"vine\").count()\n",
    "total_reviews = df_with_ratio.count()\n",
    "\n",
    "vine_proportions = vine_counts.withColumn(\n",
    "    \"proportion\", F.round(F.col(\"count\") / F.lit(total_reviews), 4)\n",
    ")\n",
    "vine_proportions.show()"
   ]
  },
  {
   "cell_type": "markdown",
   "metadata": {
    "id": "hwIjbT9m9aOs"
   },
   "source": [
    "### Análisis de compras verificadas (`verified_purchase`)\n",
    "\n",
    "Observaciones:\n",
    "* Se puede apreciar una alta proporción de compras verificadas, lo cual sugiere la credibilidad de las reseñas provenientes de usuarios que realmente compraron el producto."
   ]
  },
  {
   "cell_type": "code",
   "execution_count": 15,
   "metadata": {
    "colab": {
     "base_uri": "https://localhost:8080/"
    },
    "executionInfo": {
     "elapsed": 31696,
     "status": "ok",
     "timestamp": 1746239771113,
     "user": {
      "displayName": "Alejandro Díaz Villagómez",
      "userId": "18121581617394557263"
     },
     "user_tz": 360
    },
    "id": "fXb0mb5z9aOs",
    "outputId": "fd759096-b399-4ca8-e14a-b54024e6d60e"
   },
   "outputs": [
    {
     "name": "stderr",
     "output_type": "stream",
     "text": [
      "[Stage 36:>                                                         (0 + 1) / 1]\r"
     ]
    },
    {
     "name": "stdout",
     "output_type": "stream",
     "text": [
      "+-----------------+-------+----------+\n",
      "|verified_purchase|  count|proportion|\n",
      "+-----------------+-------+----------+\n",
      "|                Y|6047075|    0.8756|\n",
      "|                N| 859489|    0.1244|\n",
      "+-----------------+-------+----------+\n",
      "\n"
     ]
    },
    {
     "name": "stderr",
     "output_type": "stream",
     "text": [
      "                                                                                \r"
     ]
    }
   ],
   "source": [
    "verified_counts = df_with_ratio.groupBy(\"verified_purchase\").count()\n",
    "verified_proportions = verified_counts.withColumn(\n",
    "    \"proportion\", F.round(F.col(\"count\") / F.lit(total_reviews), 4)\n",
    ")\n",
    "\n",
    "verified_proportions.show()"
   ]
  },
  {
   "cell_type": "markdown",
   "metadata": {
    "id": "nbGiyiv09aOs"
   },
   "source": [
    "### Análisis temporal por año (`review_year`)\n",
    "\n",
    "Observaciones:\n",
    "* Las reseñas han incrementado a través del tiempo, con un fuerte crecimiento a partir de 2013."
   ]
  },
  {
   "cell_type": "code",
   "execution_count": 16,
   "metadata": {
    "colab": {
     "base_uri": "https://localhost:8080/"
    },
    "executionInfo": {
     "elapsed": 35095,
     "status": "ok",
     "timestamp": 1746239806206,
     "user": {
      "displayName": "Alejandro Díaz Villagómez",
      "userId": "18121581617394557263"
     },
     "user_tz": 360
    },
    "id": "rA6wGxqX9aOs",
    "outputId": "84029a79-8231-46a1-af6b-626ad3d10ae5"
   },
   "outputs": [
    {
     "name": "stderr",
     "output_type": "stream",
     "text": [
      "[Stage 39:>                                                         (0 + 1) / 1]\r"
     ]
    },
    {
     "name": "stdout",
     "output_type": "stream",
     "text": [
      "+-----------+-------+\n",
      "|review_year|  count|\n",
      "+-----------+-------+\n",
      "|       1999|    384|\n",
      "|       2000|   3596|\n",
      "|       2001|   6588|\n",
      "|       2002|  10125|\n",
      "|       2003|  13619|\n",
      "|       2004|  14124|\n",
      "|       2005|  18171|\n",
      "|       2006|  26277|\n",
      "|       2007|  59870|\n",
      "|       2008|  81409|\n",
      "|       2009| 129840|\n",
      "|       2010| 213170|\n",
      "|       2011| 397182|\n",
      "|       2012| 661742|\n",
      "|       2013|1396819|\n",
      "|       2014|1996666|\n",
      "|       2015|1876982|\n",
      "+-----------+-------+\n",
      "\n"
     ]
    },
    {
     "name": "stderr",
     "output_type": "stream",
     "text": [
      "                                                                                \r"
     ]
    }
   ],
   "source": [
    "df_with_year = df_with_ratio.withColumn(\"review_year\", F.year(\"review_date\"))\n",
    "reviews_by_year = df_with_year.groupBy(\"review_year\").count().orderBy(\"review_year\")\n",
    "\n",
    "reviews_by_year.show()"
   ]
  },
  {
   "cell_type": "markdown",
   "metadata": {
    "id": "KVUhrhPh9aOs"
   },
   "source": [
    "Las variables de interés se seleccionaron con base en su relación con la percepción del cliente y la confiabilidad de la reseña. En particular, `star_rating` y `verified_purchase` mostraron una buena distribución de combinaciones y relevancia para el objetivo del proyecto, que es analizar el sentimiento de los clientes."
   ]
  },
  {
   "cell_type": "markdown",
   "metadata": {
    "id": "-okafog59aOs"
   },
   "source": [
    "## 2. Particionamiento\n",
    "\n",
    "A partir de las variables de caracterización seleccionadas (`star_rating`, `verified_purchase` y `vine`), se construyeron combinaciones de particionamiento. Cada combinación representa un subconjunto de la base de datos que cumple simultáneamente con valores específicos de estas tres variables.\n",
    "\n",
    "Se generaron 20 combinaciones posibles:\n",
    "\n",
    "- 5 valores para star_rating: {1, 2, 3, 4, 5}\n",
    "- 2 valores para verified_purchase: {Y, N}\n",
    "- 2 valores para vine: {Y, N}\n",
    "\n",
    "Total de combinaciones: 5 × 2 × 2 = 20\n",
    "\n",
    "Estas combinaciones permiten observar el comportamiento del sentimiento bajo distintos contextos de calificación y tipo de reseña. Por ejemplo, es posible estudiar si las reseñas de usuarios con compras verificadas tienden a tener un tono más positivo que aquellas sin verificación."
   ]
  },
  {
   "cell_type": "code",
   "execution_count": 17,
   "metadata": {},
   "outputs": [],
   "source": [
    "# Previously defined relevant columns for the activity.\n",
    "RELEVANT_COLUMNS_FOR_CHARACTERIZATION = [\n",
    "  \"star_rating\",\n",
    "  \"helpful_votes\",\n",
    "  \"total_votes\",\n",
    "  \"vine\",\n",
    "  \"verified_purchase\",\n",
    "  \"review_date\",\n",
    "  \"sentiment\"\n",
    "]"
   ]
  },
  {
   "cell_type": "code",
   "execution_count": 18,
   "metadata": {},
   "outputs": [],
   "source": [
    "df_reviews_filtered = df_reviews.select(*RELEVANT_COLUMNS_FOR_CHARACTERIZATION)"
   ]
  },
  {
   "cell_type": "markdown",
   "metadata": {},
   "source": [
    "### Generación de las particiones\n",
    "\n",
    "Se implementó un procedimiento automático en PySpark que:\n",
    "\n",
    "1. Filtra los registros de la base de datos que cumplen con cada combinación de valores.\n",
    "2. Almacena cada subconjunto en un diccionario indexado por nombre de combinación (ej. \"R5_VPY_VN\" para `star_rating`=5, `verified_purchase`=Y, `vine`=N).\n",
    "3. Imprime la cantidad de registros por partición para control y trazabilidad.\n",
    "\n",
    "Las particiones con muy pocos registros pueden ser descartadas en etapas posteriores para evitar problemas en el análisis."
   ]
  },
  {
   "cell_type": "code",
   "execution_count": 19,
   "metadata": {},
   "outputs": [],
   "source": [
    "class PartitioningManager:\n",
    "\n",
    "    @staticmethod\n",
    "    def compute_probabilities(df, cols):\n",
    "        \"\"\"\n",
    "        Computes and returns the probability of each combination of values in the specified columns.\n",
    "        \"\"\"\n",
    "        total_count = df.count()\n",
    "        return df.groupBy(cols).count() \\\n",
    "                 .withColumn(\"probability\", F.round(F.col(\"count\") / total_count, 6)) \\\n",
    "                 .orderBy(\"probability\", ascending=False)\n",
    "\n",
    "    @staticmethod\n",
    "    def filter_partition(df, star_rating, verified_purchase, vine):\n",
    "        \"\"\"\n",
    "        Filters the DataFrame by specific values for rating, verified purchase, and vine.\n",
    "        \"\"\"\n",
    "        return df.filter(\n",
    "            (F.col(\"star_rating\") == star_rating) &\n",
    "            (F.col(\"verified_purchase\") == verified_purchase) &\n",
    "            (F.col(\"vine\") == vine)\n",
    "        )\n",
    "\n",
    "    @staticmethod\n",
    "    def generate_all_partitions(df, min_probability=0.0001):\n",
    "        \"\"\"\n",
    "        Generates partitions only for combinations whose joint probability is above min_probability.\n",
    "        \"\"\"\n",
    "\n",
    "        prob_df = PartitioningManager.compute_probabilities(\n",
    "            df, [\"star_rating\", \"verified_purchase\", \"vine\"]\n",
    "        )\n",
    "\n",
    "        filtered_combinations = prob_df.filter(\n",
    "            F.col(\"probability\") >= min_probability\n",
    "        ).select(\"star_rating\", \"verified_purchase\", \"vine\").collect()\n",
    "\n",
    "        partitions = {}\n",
    "        for row in filtered_combinations:\n",
    "            rating = row[\"star_rating\"]\n",
    "            purchase = row[\"verified_purchase\"]\n",
    "            vine = row[\"vine\"]\n",
    "\n",
    "            key = f\"R{rating}_VP{purchase}_V{vine}\"\n",
    "            filtered = PartitioningManager.filter_partition(df, rating, purchase, vine)\n",
    "            partitions[key] = filtered\n",
    "            print(f\"Partition {key} created with {filtered.count()} records.\")\n",
    "\n",
    "        return partitions\n",
    "\n",
    "    @staticmethod\n",
    "    def stratified_sample_partitioned_data(partitions_dict, label_col=\"sentiment\", fraction=0.3, min_rows=50):\n",
    "        \"\"\"\n",
    "        Applies stratified sampling to each partition based on sentiment.\n",
    "        \"\"\"\n",
    "        sampled_partitions = {}\n",
    "\n",
    "        for key, df in partitions_dict.items():\n",
    "            count = df.count()\n",
    "\n",
    "            if count < min_rows:\n",
    "                print(f\"Skipping partition {key} — only {count} rows (<{min_rows})\")\n",
    "                continue\n",
    "\n",
    "            sentiments = df.select(label_col).distinct().rdd.flatMap(lambda x: x).collect()\n",
    "            fractions = {s: fraction for s in sentiments}\n",
    "\n",
    "            sampled_df = df.sampleBy(label_col, fractions, seed=42)\n",
    "            sampled_partitions[key] = sampled_df\n",
    "            print(f\"Sampled {sampled_df.count()} rows from partition {key} (original: {count})\")\n",
    "\n",
    "        return sampled_partitions\n"
   ]
  },
  {
   "cell_type": "code",
   "execution_count": 20,
   "metadata": {},
   "outputs": [
    {
     "name": "stderr",
     "output_type": "stream",
     "text": [
      "                                                                                \r"
     ]
    },
    {
     "name": "stdout",
     "output_type": "stream",
     "text": [
      "Partition R5_VPY_VN created with 3679909 records.\n"
     ]
    },
    {
     "name": "stderr",
     "output_type": "stream",
     "text": [
      "                                                                                \r"
     ]
    },
    {
     "name": "stdout",
     "output_type": "stream",
     "text": [
      "Partition R4_VPY_VN created with 1019728 records.\n"
     ]
    },
    {
     "name": "stderr",
     "output_type": "stream",
     "text": [
      "                                                                                \r"
     ]
    },
    {
     "name": "stdout",
     "output_type": "stream",
     "text": [
      "Partition R1_VPY_VN created with 603371 records.\n"
     ]
    },
    {
     "name": "stderr",
     "output_type": "stream",
     "text": [
      "                                                                                \r"
     ]
    },
    {
     "name": "stdout",
     "output_type": "stream",
     "text": [
      "Partition R3_VPY_VN created with 443364 records.\n"
     ]
    },
    {
     "name": "stderr",
     "output_type": "stream",
     "text": [
      "                                                                                \r"
     ]
    },
    {
     "name": "stdout",
     "output_type": "stream",
     "text": [
      "Partition R5_VPN_VN created with 410073 records.\n"
     ]
    },
    {
     "name": "stderr",
     "output_type": "stream",
     "text": [
      "                                                                                \r"
     ]
    },
    {
     "name": "stdout",
     "output_type": "stream",
     "text": [
      "Partition R2_VPY_VN created with 300544 records.\n"
     ]
    },
    {
     "name": "stderr",
     "output_type": "stream",
     "text": [
      "                                                                                \r"
     ]
    },
    {
     "name": "stdout",
     "output_type": "stream",
     "text": [
      "Partition R1_VPN_VN created with 152779 records.\n"
     ]
    },
    {
     "name": "stderr",
     "output_type": "stream",
     "text": [
      "                                                                                \r"
     ]
    },
    {
     "name": "stdout",
     "output_type": "stream",
     "text": [
      "Partition R4_VPN_VN created with 135197 records.\n"
     ]
    },
    {
     "name": "stderr",
     "output_type": "stream",
     "text": [
      "                                                                                \r"
     ]
    },
    {
     "name": "stdout",
     "output_type": "stream",
     "text": [
      "Partition R3_VPN_VN created with 65398 records.\n"
     ]
    },
    {
     "name": "stderr",
     "output_type": "stream",
     "text": [
      "                                                                                \r"
     ]
    },
    {
     "name": "stdout",
     "output_type": "stream",
     "text": [
      "Partition R2_VPN_VN created with 59973 records.\n"
     ]
    },
    {
     "name": "stderr",
     "output_type": "stream",
     "text": [
      "                                                                                \r"
     ]
    },
    {
     "name": "stdout",
     "output_type": "stream",
     "text": [
      "Partition R5_VPN_VY created with 15604 records.\n"
     ]
    },
    {
     "name": "stderr",
     "output_type": "stream",
     "text": [
      "                                                                                \r"
     ]
    },
    {
     "name": "stdout",
     "output_type": "stream",
     "text": [
      "Partition R4_VPN_VY created with 13240 records.\n"
     ]
    },
    {
     "name": "stderr",
     "output_type": "stream",
     "text": [
      "                                                                                \r"
     ]
    },
    {
     "name": "stdout",
     "output_type": "stream",
     "text": [
      "Partition R3_VPN_VY created with 4886 records.\n"
     ]
    },
    {
     "name": "stderr",
     "output_type": "stream",
     "text": [
      "                                                                                \r"
     ]
    },
    {
     "name": "stdout",
     "output_type": "stream",
     "text": [
      "Partition R2_VPN_VY created with 1634 records.\n"
     ]
    },
    {
     "name": "stderr",
     "output_type": "stream",
     "text": [
      "                                                                                \r"
     ]
    },
    {
     "name": "stdout",
     "output_type": "stream",
     "text": [
      "Partition R1_VPN_VY created with 705 records.\n"
     ]
    },
    {
     "name": "stderr",
     "output_type": "stream",
     "text": [
      "[Stage 98:>                                                         (0 + 1) / 1]\r"
     ]
    },
    {
     "name": "stdout",
     "output_type": "stream",
     "text": [
      "Partition R5_VPY_VY created with 101 records.\n"
     ]
    },
    {
     "name": "stderr",
     "output_type": "stream",
     "text": [
      "                                                                                \r"
     ]
    }
   ],
   "source": [
    "partitions = PartitioningManager.generate_all_partitions(df_reviews, min_probability=0.00001)"
   ]
  },
  {
   "cell_type": "code",
   "execution_count": 21,
   "metadata": {},
   "outputs": [
    {
     "name": "stdout",
     "output_type": "stream",
     "text": [
      "+-----------+-----------+--------------+----------+--------------+--------------------+----------------+-----------+-------------+-----------+----+-----------------+--------------------+--------------------+-----------+---------+\n",
      "|marketplace|customer_id|     review_id|product_id|product_parent|       product_title|product_category|star_rating|helpful_votes|total_votes|vine|verified_purchase|     review_headline|         review_body|review_date|sentiment|\n",
      "+-----------+-----------+--------------+----------+--------------+--------------------+----------------+-----------+-------------+-----------+----+-----------------+--------------------+--------------------+-----------+---------+\n",
      "|         US|   22873041|R3ARRMDEGED8RD|B00KJWQIIC|     335625766|Plemo 14-Inch Lap...|              PC|          5|            0|          0|   N|                Y|Pleasantly surprised|I was very surpri...| 2015-08-31|        1|\n",
      "|         US|   38264512|R39NJY2YJ1JFSV|B00AQMTND2|     964759214|Aleratec SATA Dat...|              PC|          5|            0|          0|   N|                Y|          Five Stars|Excellent! Great ...| 2015-08-31|        1|\n",
      "|         US|   30548466|R31SR7REWNX7CF|B00KX4TORI|     170101802|Kingston Digital ...|              PC|          5|            0|          0|   N|                Y|Good quality, wor...|Good quality,work...| 2015-08-31|        1|\n",
      "|         US|   37802374|R2EY3N4K9W19UP|B00IFYEYXC|     602496520|AzureWave Broadco...|              PC|          5|            3|          4|   N|                Y|Great for Windows...|Replaced my Intel...| 2015-08-31|        1|\n",
      "|         US|   42560427|R2G5FPA4OX37GV|B00MRB7SBO|     922591915|iPad Pro 9.7, iPa...|              PC|          5|            1|          1|   N|                Y|          Five Stars|Works well. I use...| 2015-08-31|        1|\n",
      "+-----------+-----------+--------------+----------+--------------+--------------------+----------------+-----------+-------------+-----------+----+-----------------+--------------------+--------------------+-----------+---------+\n",
      "only showing top 5 rows\n",
      "\n"
     ]
    }
   ],
   "source": [
    "# Sample of one of the generated partitions.\n",
    "partitions[\"R5_VPY_VN\"].show(5)"
   ]
  },
  {
   "cell_type": "markdown",
   "metadata": {},
   "source": [
    "## 3.Técnica de muestreo aplicada por partición\n",
    "\n",
    "Una vez construidas las particiones, se aplicó una técnica de **muestreo estratificado** sobre cada subconjunto, usando la variable `sentiment` como variable de estratificación. Esto asegura que cada muestra mantenga la proporción original de clases de sentimiento en la partición.\n",
    "\n",
    "Para evitar particiones con tamaños insuficientes, se definió un umbral mínimo (`min_rows`) que descarta automáticamente las particiones con muy pocos registros.\n",
    "\n",
    "Además, se permitió configurar el porcentaje de muestreo (`fraction`) por clase de sentimiento. Esto ofrece flexibilidad para ajustar el tamaño del conjunto de entrenamiento o validación según necesidades posteriores.\n",
    "\n",
    "#### Justificación del muestreo estratificado\n",
    "\n",
    "* **Preservación del equilibrio de clases**: Al muestrear por clase de sentimiento se evitan sesgos por clases desbalanceadas.\n",
    "* **Relevancia contextual**: Al aplicar el muestreo dentro de cada partición (y no sobre la base completa), se conserva la variabilidad contextual de las reseñas.\n",
    "* **Evita el submuestreo accidental**: Las particiones muy pequeñas son descartadas de forma controlada, garantizando que el conjunto final tenga representatividad suficiente."
   ]
  },
  {
   "cell_type": "code",
   "execution_count": 22,
   "metadata": {},
   "outputs": [
    {
     "name": "stderr",
     "output_type": "stream",
     "text": [
      "                                                                                \r"
     ]
    },
    {
     "name": "stdout",
     "output_type": "stream",
     "text": [
      "Sampled 1473392 rows from partition R5_VPY_VN (original: 3679909)\n"
     ]
    },
    {
     "name": "stderr",
     "output_type": "stream",
     "text": [
      "                                                                                \r"
     ]
    },
    {
     "name": "stdout",
     "output_type": "stream",
     "text": [
      "Sampled 408759 rows from partition R4_VPY_VN (original: 1019728)\n"
     ]
    },
    {
     "name": "stderr",
     "output_type": "stream",
     "text": [
      "                                                                                \r"
     ]
    },
    {
     "name": "stdout",
     "output_type": "stream",
     "text": [
      "Sampled 241961 rows from partition R1_VPY_VN (original: 603371)\n"
     ]
    },
    {
     "name": "stderr",
     "output_type": "stream",
     "text": [
      "                                                                                \r"
     ]
    },
    {
     "name": "stdout",
     "output_type": "stream",
     "text": [
      "Sampled 177507 rows from partition R3_VPY_VN (original: 443364)\n"
     ]
    },
    {
     "name": "stderr",
     "output_type": "stream",
     "text": [
      "                                                                                \r"
     ]
    },
    {
     "name": "stdout",
     "output_type": "stream",
     "text": [
      "Sampled 164237 rows from partition R5_VPN_VN (original: 410073)\n"
     ]
    },
    {
     "name": "stderr",
     "output_type": "stream",
     "text": [
      "                                                                                \r"
     ]
    },
    {
     "name": "stdout",
     "output_type": "stream",
     "text": [
      "Sampled 120365 rows from partition R2_VPY_VN (original: 300544)\n"
     ]
    },
    {
     "name": "stderr",
     "output_type": "stream",
     "text": [
      "                                                                                \r"
     ]
    },
    {
     "name": "stdout",
     "output_type": "stream",
     "text": [
      "Sampled 61298 rows from partition R1_VPN_VN (original: 152779)\n"
     ]
    },
    {
     "name": "stderr",
     "output_type": "stream",
     "text": [
      "                                                                                \r"
     ]
    },
    {
     "name": "stdout",
     "output_type": "stream",
     "text": [
      "Sampled 54241 rows from partition R4_VPN_VN (original: 135197)\n"
     ]
    },
    {
     "name": "stderr",
     "output_type": "stream",
     "text": [
      "                                                                                \r"
     ]
    },
    {
     "name": "stdout",
     "output_type": "stream",
     "text": [
      "Sampled 26223 rows from partition R3_VPN_VN (original: 65398)\n"
     ]
    },
    {
     "name": "stderr",
     "output_type": "stream",
     "text": [
      "                                                                                \r"
     ]
    },
    {
     "name": "stdout",
     "output_type": "stream",
     "text": [
      "Sampled 24060 rows from partition R2_VPN_VN (original: 59973)\n"
     ]
    },
    {
     "name": "stderr",
     "output_type": "stream",
     "text": [
      "                                                                                \r"
     ]
    },
    {
     "name": "stdout",
     "output_type": "stream",
     "text": [
      "Sampled 6330 rows from partition R5_VPN_VY (original: 15604)\n"
     ]
    },
    {
     "name": "stderr",
     "output_type": "stream",
     "text": [
      "                                                                                \r"
     ]
    },
    {
     "name": "stdout",
     "output_type": "stream",
     "text": [
      "Sampled 5385 rows from partition R4_VPN_VY (original: 13240)\n"
     ]
    },
    {
     "name": "stderr",
     "output_type": "stream",
     "text": [
      "                                                                                \r"
     ]
    },
    {
     "name": "stdout",
     "output_type": "stream",
     "text": [
      "Sampled 1979 rows from partition R3_VPN_VY (original: 4886)\n"
     ]
    },
    {
     "name": "stderr",
     "output_type": "stream",
     "text": [
      "                                                                                \r"
     ]
    },
    {
     "name": "stdout",
     "output_type": "stream",
     "text": [
      "Sampled 682 rows from partition R2_VPN_VY (original: 1634)\n"
     ]
    },
    {
     "name": "stderr",
     "output_type": "stream",
     "text": [
      "                                                                                \r"
     ]
    },
    {
     "name": "stdout",
     "output_type": "stream",
     "text": [
      "Sampled 294 rows from partition R1_VPN_VY (original: 705)\n"
     ]
    },
    {
     "name": "stderr",
     "output_type": "stream",
     "text": [
      "[Stage 243:>                                                        (0 + 1) / 1]\r"
     ]
    },
    {
     "name": "stdout",
     "output_type": "stream",
     "text": [
      "Sampled 35 rows from partition R5_VPY_VY (original: 101)\n"
     ]
    },
    {
     "name": "stderr",
     "output_type": "stream",
     "text": [
      "                                                                                \r"
     ]
    }
   ],
   "source": [
    "sampled_partitions = PartitioningManager.stratified_sample_partitioned_data(partitions, fraction=0.4, min_rows=100)"
   ]
  },
  {
   "cell_type": "markdown",
   "metadata": {},
   "source": [
    "Para la recuperación de instancias desde cada partición generada, se empleó un **muestreo estratificado con fracción del 20%**, aplicado sobre la variable de salida `sentiment`. Esta técnica permite seleccionar una submuestra proporcional de registros pertenecientes a cada clase de sentimiento, conservando la distribución original presente en cada partición.\n",
    "\n",
    "Con ello, se garantiza que el conjunto muestreado sea estadísticamente representativo, lo cual es importante para el desarrollo posterior de modelos de aprendizaje supervisado. Este enfoque también permite mitigar sesgos introducidos por clases dominantes y asegurar la diversidad de ejemplos en cada subconjunto. Además, se filtraron las particiones con un volumen menor a 50 observaciones para evitar problemas derivados de tamaños de muestra insuficientes.\n"
   ]
  }
 ],
 "metadata": {
  "colab": {
   "provenance": []
  },
  "kernelspec": {
   "display_name": "act_1_big_data",
   "language": "python",
   "name": "python3"
  },
  "language_info": {
   "codemirror_mode": {
    "name": "ipython",
    "version": 3
   },
   "file_extension": ".py",
   "mimetype": "text/x-python",
   "name": "python",
   "nbconvert_exporter": "python",
   "pygments_lexer": "ipython3",
   "version": "3.12.7"
  }
 },
 "nbformat": 4,
 "nbformat_minor": 0
}
